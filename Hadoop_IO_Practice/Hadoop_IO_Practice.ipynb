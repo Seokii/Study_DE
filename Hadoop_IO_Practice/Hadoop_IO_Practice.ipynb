{
 "cells": [
  {
   "cell_type": "code",
   "execution_count": 2,
   "id": "6f9d739f",
   "metadata": {},
   "outputs": [],
   "source": [
    "import pandas as pd\n",
    "import numpy as np\n",
    "\n",
    "import os\n",
    "import re\n",
    "import datetime"
   ]
  },
  {
   "cell_type": "code",
   "execution_count": 3,
   "id": "abb62b14",
   "metadata": {
    "scrolled": true
   },
   "outputs": [
    {
     "name": "stdout",
     "output_type": "stream",
     "text": [
      "\u001B[0m\u001B[01;34m2016_result\u001B[0m/  Hadoop_IO_Practice.ipynb  \u001B[01;34mM_WT.WT01.P\u001B[0m/\r\n",
      "Dockerfile    Hadoop_IO_Practice.py     requirements.txt\r\n"
     ]
    }
   ],
   "source": [
    "%ls"
   ]
  },
  {
   "cell_type": "code",
   "execution_count": 4,
   "id": "1b2c2981",
   "metadata": {},
   "outputs": [
    {
     "data": {
      "text/plain": [
       "'/home/minseok/DE'"
      ]
     },
     "execution_count": 4,
     "metadata": {},
     "output_type": "execute_result"
    }
   ],
   "source": [
    "%pwd"
   ]
  },
  {
   "cell_type": "code",
   "execution_count": 6,
   "id": "fc2ba66d",
   "metadata": {},
   "outputs": [],
   "source": [
    "def indexToDate(INPUT_PATH, OUTPUT_PATH, year):\n",
    "    pd.set_option('mode.chained_assignment', None)\n",
    "    print(f'input_path: {INPUT_PATH}')\n",
    "    ori = sorted(os.listdir(INPUT_PATH))\n",
    "    filter = []\n",
    "    for filename in ori:\n",
    "        if filename.startswith(f'{year}'):\n",
    "            filter.append(filename)\n",
    "    \n",
    "    total_count = len(filter)\n",
    "    print(f'{year}년 데이터 수: {total_count}')\n",
    "    count = 0\n",
    "    \n",
    "    for file in filter:\n",
    "        target = pd.read_csv(f'{INPUT_PATH}/{file}', delimiter='\\t', header=None)\n",
    "        target.columns = ['date', 'value']\n",
    "        date = file.replace('.dat', '')\n",
    "        \n",
    "        for i in range(len(target)):\n",
    "            tmp = f'{year}'\n",
    "            tmp += str(datetime.timedelta(seconds=i)).replace(':','')\n",
    "            target['date'][i] = tmp\n",
    "        \n",
    "        target.to_csv(f'{OUTPUT_PATH}/{date}.csv', index=False)\n",
    "    \n",
    "        print(f'{count+1} / {total_count} 완료..')\n",
    "        count += 1"
   ]
  },
  {
   "cell_type": "code",
   "execution_count": null,
   "id": "6c429e5a",
   "metadata": {
    "scrolled": true
   },
   "outputs": [
    {
     "name": "stdout",
     "output_type": "stream",
     "text": [
      "input_path: M_WT.WT01.P/\n",
      "2016년 데이터 수: 366\n",
      "1 / 366 완료..\n",
      "2 / 366 완료..\n",
      "3 / 366 완료..\n"
     ]
    }
   ],
   "source": [
    "indexToDate('M_WT.WT01.P/','2016_result' ,2016)"
   ]
  },
  {
   "cell_type": "code",
   "execution_count": null,
   "id": "36c92846",
   "metadata": {},
   "outputs": [],
   "source": []
  }
 ],
 "metadata": {
  "kernelspec": {
   "display_name": "DE",
   "language": "python",
   "name": "de"
  },
  "language_info": {
   "codemirror_mode": {
    "name": "ipython",
    "version": 3
   },
   "file_extension": ".py",
   "mimetype": "text/x-python",
   "name": "python",
   "nbconvert_exporter": "python",
   "pygments_lexer": "ipython3",
   "version": "3.8.16"
  }
 },
 "nbformat": 4,
 "nbformat_minor": 5
}
